{
 "cells": [
  {
   "cell_type": "markdown",
   "metadata": {},
   "source": [
    "# What makes a Youtube Video trendy ?"
   ]
  },
  {
   "cell_type": "markdown",
   "metadata": {},
   "source": [
    "How to make it to the trends. Quality ? Views ? Something else ?"
   ]
  },
  {
   "cell_type": "code",
   "execution_count": 1,
   "metadata": {
    "_cell_guid": "b1076dfc-b9ad-4769-8c92-a6c4dae69d19",
    "_uuid": "8f2839f25d086af736a60e9eeb907d3b93b6e0e5"
   },
   "outputs": [],
   "source": [
    "import numpy as np # linear algebra\n",
    "import pandas as pd # data processing, CSV file I/O (e.g. pd.read_csv)\n",
    "import matplotlib.pyplot as plt\n"
   ]
  },
  {
   "cell_type": "markdown",
   "metadata": {},
   "source": [
    "I'll only be working with US videos."
   ]
  },
  {
   "cell_type": "code",
   "execution_count": 8,
   "metadata": {
    "_cell_guid": "79c7e3d0-c299-4dcb-8224-4455121ee9b0",
    "_uuid": "d629ff2d2480ee46fbb7e2d37f6b5fab8052498a"
   },
   "outputs": [
    {
     "name": "stdout",
     "output_type": "stream",
     "text": [
      "Index(['video_id', 'trending_date', 'title', 'channel_title', 'category_id',\n",
      "       'publish_time', 'tags', 'views', 'likes', 'dislikes', 'comment_count',\n",
      "       'thumbnail_link', 'comments_disabled', 'ratings_disabled',\n",
      "       'video_error_or_removed', 'description'],\n",
      "      dtype='object')\n"
     ]
    }
   ],
   "source": [
    "data = pd.read_csv('..\\\\Documents\\\\Ryan\\\\dataProjects\\\\youtubeDataset\\\\USvideos.csv')\n",
    "print(data.columns)"
   ]
  },
  {
   "cell_type": "markdown",
   "metadata": {},
   "source": [
    "### Data Cleaning"
   ]
  },
  {
   "cell_type": "code",
   "execution_count": 9,
   "metadata": {},
   "outputs": [
    {
     "name": "stdout",
     "output_type": "stream",
     "text": [
      "video_id                    0\n",
      "trending_date               0\n",
      "title                       0\n",
      "channel_title               0\n",
      "category_id                 0\n",
      "publish_time                0\n",
      "tags                        0\n",
      "views                       0\n",
      "likes                       0\n",
      "dislikes                    0\n",
      "comment_count               0\n",
      "thumbnail_link              0\n",
      "comments_disabled           0\n",
      "ratings_disabled            0\n",
      "video_error_or_removed      0\n",
      "description               570\n"
     ]
    }
   ],
   "source": [
    "## -- Checking for nan\n",
    "print(data.isnull().sum(axis=0).to_string())"
   ]
  },
  {
   "cell_type": "markdown",
   "metadata": {},
   "source": [
    "Some descriptions are missing, but it's fine, I don't intend to use it for now. "
   ]
  },
  {
   "cell_type": "code",
   "execution_count": 10,
   "metadata": {},
   "outputs": [
    {
     "name": "stdout",
     "output_type": "stream",
     "text": [
      "Proportion of lines deleted 0.004711\n"
     ]
    }
   ],
   "source": [
    "## -- Deleting entries with ratings disabled or video error\n",
    "disabledIdx = np.union1d(np.where(data['ratings_disabled'])[0],np.where(data['video_error_or_removed'])[0])\n",
    "data = data.drop(disabledIdx,axis=0)\n",
    "data = data.drop(['ratings_disabled','video_error_or_removed'],axis = 1)\n",
    "print('Proportion of lines deleted %f' %(len(disabledIdx)/data.shape[0]))"
   ]
  },
  {
   "cell_type": "code",
   "execution_count": 11,
   "metadata": {},
   "outputs": [
    {
     "name": "stdout",
     "output_type": "stream",
     "text": [
      "video_id\n",
      "-0CMnp02rNY    6\n",
      "-0NYY8cqdiQ    1\n",
      "-1Hm41N0dUs    3\n",
      "-1yT-K3c6YI    4\n",
      "-2RVw2_QyxQ    3\n",
      "-2aVkGcI7ZA    4\n",
      "-2b4qSoMnKE    2\n",
      "\n",
      " On average, a video appears 6 times in the dataset\n"
     ]
    }
   ],
   "source": [
    "## -- Same video can appear in the dataset more than once\n",
    "print(data.groupby(['video_id']).size().head(7).to_string())\n",
    "print('\\n On average, a video appears %i times in the dataset'%int(data.groupby(['video_id']).size().mean()))"
   ]
  },
  {
   "cell_type": "markdown",
   "metadata": {},
   "source": [
    "I chose not to delete the videos that appear multiple times in the dataset"
   ]
  },
  {
   "cell_type": "markdown",
   "metadata": {},
   "source": [
    "### New intensive variables"
   ]
  },
  {
   "cell_type": "code",
   "execution_count": 12,
   "metadata": {},
   "outputs": [
    {
     "name": "stdout",
     "output_type": "stream",
     "text": [
      "Index(['video_id', 'trending_date', 'title', 'channel_title', 'category_id',\n",
      "       'publish_time', 'tags', 'views', 'likes', 'dislikes', 'comment_count',\n",
      "       'thumbnail_link', 'comments_disabled', 'description', 'engagementRate'],\n",
      "      dtype='object')\n"
     ]
    }
   ],
   "source": [
    "## -- Engagement. Shows if you video has fostered a lot of reactions. \n",
    "alpha = 5 \n",
    "data['engagementRate'] = (data['likes'] + data['dislikes'] + data['comment_count']*alpha) / ((2+alpha)*data['views']) #Comments value more than likes when it comes to commitment. \n",
    "print(data.columns)"
   ]
  },
  {
   "cell_type": "code",
   "execution_count": 13,
   "metadata": {},
   "outputs": [
    {
     "name": "stdout",
     "output_type": "stream",
     "text": [
      "Index(['video_id', 'trending_date', 'title', 'channel_title', 'category_id',\n",
      "       'publish_time', 'tags', 'views', 'likes', 'dislikes', 'comment_count',\n",
      "       'thumbnail_link', 'comments_disabled', 'description', 'engagementRate',\n",
      "       'qualityScore'],\n",
      "      dtype='object')\n"
     ]
    }
   ],
   "source": [
    "## -- Quality. Shows how well was your video received\n",
    "data['qualityScore'] = data['likes']/ (data['likes']+data['dislikes'])\n",
    "print(data.columns)"
   ]
  },
  {
   "cell_type": "code",
   "execution_count": 14,
   "metadata": {},
   "outputs": [
    {
     "name": "stdout",
     "output_type": "stream",
     "text": [
      "Index(['video_id', 'trending_date', 'title', 'channel_title', 'category_id',\n",
      "       'publish_time', 'tags', 'views', 'likes', 'dislikes', 'comment_count',\n",
      "       'thumbnail_link', 'comments_disabled', 'description', 'engagementRate',\n",
      "       'qualityScore', 'logViews'],\n",
      "      dtype='object')\n"
     ]
    }
   ],
   "source": [
    "## -- LogViews\n",
    "data['logViews'] = np.log(data['views'])\n",
    "print(data.columns)"
   ]
  },
  {
   "cell_type": "markdown",
   "metadata": {},
   "source": [
    "## Exploratory Data Analysis : views aren't enough"
   ]
  },
  {
   "cell_type": "code",
   "execution_count": 15,
   "metadata": {},
   "outputs": [
    {
     "name": "stdout",
     "output_type": "stream",
     "text": [
      "0          748374\n",
      "1         2418783\n",
      "2         3191434\n",
      "3          343168\n",
      "4         2095731\n",
      "           ...   \n",
      "40944     1685609\n",
      "40945     1064798\n",
      "40946     1066451\n",
      "40947     5660813\n",
      "40948    10306119\n",
      "Name: views, Length: 40757, dtype: int64\n",
      "mean: 2353868\n",
      "std: 7373859\n",
      "min: 549\n"
     ]
    },
    {
     "data": {
      "image/png": "[encoded data removed]",
      "text/plain": [
       "<Figure size 432x288 with 1 Axes>"
      ]
     },
     "metadata": {
      "needs_background": "light"
     },
     "output_type": "display_data"
    }
   ],
   "source": [
    "## -- Views\n",
    "data['logViews'].hist(bins = 50)\n",
    "mean = data['views'].mean()\n",
    "std = data['views'].std()\n",
    "print(data['views'])\n",
    "print('mean: %i' %int(mean))\n",
    "print('std: %i' %int(std))\n",
    "print('min: %i' %min(data['views']))"
   ]
  },
  {
   "cell_type": "code",
   "execution_count": 16,
   "metadata": {},
   "outputs": [
    {
     "name": "stdout",
     "output_type": "stream",
     "text": [
      "First Quantile: 71254\n"
     ]
    }
   ],
   "source": [
    "print('First Quantile: %i' %int(data['views'].quantile(0.1)))"
   ]
  },
  {
   "cell_type": "markdown",
   "metadata": {},
   "source": [
    "High range of values (std / mean ~ 3). Not visible in the histogram of 'views' because of some outliers of very high value, hence the log transform. The number of views alone isn't enough to know wether or not a video can make it to the trends. As shown right above, the dispersion is important, with, in fact, a lot of videos with quite a low amount of views. **10% of the videos that make it to the trends have less than 70,000 views**."
   ]
  },
  {
   "cell_type": "code",
   "execution_count": 17,
   "metadata": {},
   "outputs": [
    {
     "name": "stdout",
     "output_type": "stream",
     "text": [
      "0        0.026775\n",
      "1        0.009854\n",
      "2        0.008607\n",
      "3        0.008979\n",
      "4        0.015120\n",
      "           ...   \n",
      "40944    0.004477\n",
      "40945    0.010742\n",
      "40946    0.009251\n",
      "40947    0.006593\n",
      "40948    0.017937\n",
      "Name: engagementRate, Length: 40757, dtype: float64\n",
      "mean: 0.008357\n",
      "std: 0.006823\n"
     ]
    },
    {
     "data": {
      "image/png": "[encoded data removed]",
      "text/plain": [
       "<Figure size 432x288 with 1 Axes>"
      ]
     },
     "metadata": {
      "needs_background": "light"
     },
     "output_type": "display_data"
    }
   ],
   "source": [
    " ## -- Engagement\n",
    "data['engagementRate'].hist(bins = 50)\n",
    "mean = data['engagementRate'].mean()\n",
    "std = data['engagementRate'].std()\n",
    "print(data['engagementRate'])\n",
    "print('mean: %f' %mean)\n",
    "print('std: %f' %std)"
   ]
  },
  {
   "cell_type": "markdown",
   "metadata": {},
   "source": [
    "As it is, this data can't be exploited. It would be interesting to compare it against a set of random youtube videos."
   ]
  },
  {
   "cell_type": "code",
   "execution_count": 18,
   "metadata": {},
   "outputs": [
    {
     "name": "stdout",
     "output_type": "stream",
     "text": [
      "0        0.950970\n",
      "1        0.940521\n",
      "2        0.964729\n",
      "3        0.938550\n",
      "4        0.985181\n",
      "           ...   \n",
      "40944    0.964977\n",
      "40945    0.993674\n",
      "40946    0.978982\n",
      "40947    0.985465\n",
      "40948    0.626394\n",
      "Name: qualityScore, Length: 40757, dtype: float64\n",
      "mean: 0.933124\n",
      "std: 0.102273\n"
     ]
    },
    {
     "data": {
      "image/png": "[encoded data removed]",
      "text/plain": [
       "<Figure size 432x288 with 1 Axes>"
      ]
     },
     "metadata": {
      "needs_background": "light"
     },
     "output_type": "display_data"
    }
   ],
   "source": [
    "## -- Quality\n",
    "data['qualityScore'].hist(bins = 50)\n",
    "mean = data['qualityScore'].mean()\n",
    "std = data['qualityScore'].std()\n",
    "print(data['qualityScore'])\n",
    "print('mean: %f' %mean)\n",
    "print('std: %f' %std)"
   ]
  },
  {
   "cell_type": "markdown",
   "metadata": {},
   "source": [
    "**Results**\n",
    "\n",
    "With $\\sigma$ the standard deviation, and $\\mu$ the mean, we have:\n",
    "$$\\frac{\\sigma}{\\mu} =  \\frac{1}{10}$$ \n",
    "The data are regrouped close to the average, aside from some outliers the quality score is above 90%\n",
    "\n"
   ]
  },
  {
   "cell_type": "code",
   "execution_count": 19,
   "metadata": {},
   "outputs": [
    {
     "data": {
      "image/png": "[encoded data removed]",
      "text/plain": [
       "<Figure size 432x288 with 1 Axes>"
      ]
     },
     "metadata": {
      "needs_background": "light"
     },
     "output_type": "display_data"
    }
   ],
   "source": [
    "## This phenomenon is more visible on the box plot of the statistical series.\n",
    "plt.show(data.boxplot('qualityScore',showfliers=False)) #outliers not shown"
   ]
  },
  {
   "cell_type": "markdown",
   "metadata": {},
   "source": [
    "\n",
    "**Conclusion**\n",
    "\n",
    "This means that if the ratio $\\frac{likes}{likes + dislikes}$ of your video isn't around 90% or above, it'll be all the more difficult for you to make it to the trends. If this ratio is less than 85%, your chances to make it are slim to none. \n",
    "Therefore, your primary concern should always be **quality**, and not **buzz**.\n",
    "\n",
    "**Note**\n",
    "\n",
    "Making this analysis, I took a look at the like/dislike ratio of youtube videos. If not all videos have a lot of likes (https://en.wikipedia.org/wiki/List_of_most-disliked_YouTube_videos) youtube tends to recommend me those with a high like/dislike ratio. Not only videos with a lot of dislikes don't make it to the trends, but they become **invisible**. It could explain the high correlation between the number of views and the number of likes compared to the correlation between the number of views and the number of dislikes. The videos that do have a good ratio get recommended and therefore get more views."
   ]
  },
  {
   "cell_type": "code",
   "execution_count": 20,
   "metadata": {},
   "outputs": [
    {
     "data": {
      "text/html": [
       "<div>\n",
       "<style scoped>\n",
       "    .dataframe tbody tr th:only-of-type {\n",
       "        vertical-align: middle;\n",
       "    }\n",
       "\n",
       "    .dataframe tbody tr th {\n",
       "        vertical-align: top;\n",
       "    }\n",
       "\n",
       "    .dataframe thead th {\n",
       "        text-align: right;\n",
       "    }\n",
       "</style>\n",
       "<table border=\"1\" class=\"dataframe\">\n",
       "  <thead>\n",
       "    <tr style=\"text-align: right;\">\n",
       "      <th></th>\n",
       "      <th>views</th>\n",
       "      <th>likes</th>\n",
       "      <th>dislikes</th>\n",
       "    </tr>\n",
       "  </thead>\n",
       "  <tbody>\n",
       "    <tr>\n",
       "      <td>views</td>\n",
       "      <td>1.000000</td>\n",
       "      <td>0.853981</td>\n",
       "      <td>0.474756</td>\n",
       "    </tr>\n",
       "    <tr>\n",
       "      <td>likes</td>\n",
       "      <td>0.853981</td>\n",
       "      <td>1.000000</td>\n",
       "      <td>0.447132</td>\n",
       "    </tr>\n",
       "    <tr>\n",
       "      <td>dislikes</td>\n",
       "      <td>0.474756</td>\n",
       "      <td>0.447132</td>\n",
       "      <td>1.000000</td>\n",
       "    </tr>\n",
       "  </tbody>\n",
       "</table>\n",
       "</div>"
      ],
      "text/plain": [
       "             views     likes  dislikes\n",
       "views     1.000000  0.853981  0.474756\n",
       "likes     0.853981  1.000000  0.447132\n",
       "dislikes  0.474756  0.447132  1.000000"
      ]
     },
     "execution_count": 20,
     "metadata": {},
     "output_type": "execute_result"
    }
   ],
   "source": [
    "## -- correlation between likes views and dislikes\n",
    "data[['views','likes','dislikes']].corr()"
   ]
  },
  {
   "cell_type": "markdown",
   "metadata": {},
   "source": [
    "### Clickbait techniques"
   ]
  },
  {
   "cell_type": "markdown",
   "metadata": {},
   "source": [
    "Let's check if the title of a video contains a capitalized word. It is a good indicator of the famous clickbait strategy among the youtubers which is often associated with alluring thumbnails. "
   ]
  },
  {
   "cell_type": "code",
   "execution_count": 21,
   "metadata": {},
   "outputs": [
    {
     "name": "stdout",
     "output_type": "stream",
     "text": [
      "proportion of capitalized title : 43 % \n"
     ]
    }
   ],
   "source": [
    "## -- Clickbait techniques\n",
    "def capitalizedTitle(title: str)->bool:\n",
    "    for word in title.split():\n",
    "        if word.isupper():\n",
    "            return True\n",
    "    return False\n",
    "data['capitalizedTitle'] = data['title'].apply(capitalizedTitle)\n",
    "print('proportion of capitalized title : %i %% ' %int(data['capitalizedTitle'].sum()/data.shape[0] * 100))"
   ]
  },
  {
   "cell_type": "markdown",
   "metadata": {},
   "source": [
    "43% is huge. The use of clickbait techniques is definetly a good strategy to make it to the trends. To better understand their impact, of course, more in-depth studies should be done. But this number alone reveals how much of a good strategy it is."
   ]
  },
  {
   "cell_type": "code",
   "execution_count": 22,
   "metadata": {},
   "outputs": [
    {
     "name": "stdout",
     "output_type": "stream",
     "text": [
      "capitalizedData: \n",
      " \n",
      " 0                    WE WANT TO TALK ABOUT OUR MARRIAGE\n",
      "1     The Trump Presidency: Last Week Tonight with J...\n",
      "4                              I Dare You: GOING BALD!?\n",
      "5                                 2 Weeks with iPhone X\n",
      "6             Roy Moore & Jeff Sessions Cold Open - SNL\n",
      "8     The Greatest Showman | Official Trailer 2 [HD]...\n",
      "10    Dion Lewis' 103-Yd Kick Return TD vs. Denver! ...\n",
      "\n",
      " \n",
      " nonCapitalizedData: \n",
      " \n",
      " 2     Racist Superman | Rudy Mancuso, King Bach & Le...\n",
      "3                      Nickelback Lyrics: Real or Fake?\n",
      "7                   5 Ice Cream Gadgets put to the Test\n",
      "9     Why the rise of the robots won’t mean the end ...\n",
      "12           Marshmello - Blocks (Official Music Video)\n",
      "13               Which Countries Are About To Collapse?\n",
      "15                                     The New SpotMini\n",
      "\n",
      " \n",
      " mean qualityScore: \n",
      " \n",
      " capitalizedData: 93 % \n",
      " nonCapitalizedData: 93 %\n",
      "\n",
      " \n",
      " mean engagementRate: \n",
      " \n",
      " capitalizedData: 8.906720 \n",
      " nonCapitalizedData: 7.925501 \n",
      "\n",
      " \n",
      " mean views: \n",
      " \n",
      " capitalizedData: 2153260  \n",
      " nonCapitalizedData: 2511362 \n"
     ]
    }
   ],
   "source": [
    "capitalizedData = data[data['capitalizedTitle'] == True]\n",
    "nonCapitalizedData = data[data['capitalizedTitle'] == False]\n",
    "print('capitalizedData: \\n \\n',capitalizedData['title'].head(7).to_string())\n",
    "print('\\n \\n nonCapitalizedData: \\n \\n',nonCapitalizedData['title'].head(7).to_string())\n",
    "## -- Mean quality \n",
    "print('\\n \\n mean qualityScore: \\n \\n capitalizedData: %i %% \\n nonCapitalizedData: %i %%'%(100*capitalizedData['qualityScore'].mean(),100*nonCapitalizedData['qualityScore'].mean()))\n",
    "\n",
    "## -- Engagement Rate\n",
    "print('\\n \\n mean engagementRate: \\n \\n capitalizedData: %f \\n nonCapitalizedData: %f '%(1000*capitalizedData['engagementRate'].mean(),1000*nonCapitalizedData['engagementRate'].mean()))\n",
    "\n",
    "## -- Views\n",
    "print('\\n \\n mean views: \\n \\n capitalizedData: %i  \\n nonCapitalizedData: %i '%(capitalizedData['views'].mean(),nonCapitalizedData['views'].mean()))\n"
   ]
  },
  {
   "cell_type": "markdown",
   "metadata": {},
   "source": [
    "**Results** \n",
    "\n",
    "Youtubers that make it to the trends using clickbait strategies tend to make less views (16% less) but do have a strong community that support them (16% higher engagement rate). Moreover their content is seen as qualitative as the one of the others youtubers. \n",
    "\n",
    "**Analysis**\n",
    "\n",
    "The gap in views between the two categories can be surprising at first sight, because the aim of such a technique is to gain more views. But you have to take into account that it might just be that youtubers who use such techniques are trying to make it, and therefore, might have fewer followers. Then again, these are just hypotheses we can't prove, unless we have for example the number of subscribers they had when they uploaded the video. Such data is not available on the youtube website and can't be retrieved using the youtube API or via web scraping. \n",
    "\n",
    "**Conclusion**\n",
    "\n",
    "All in all,  if you're a small youtuber trying to make it in the youtube business, you'll be likely to have fewer views at first. Given the data abouve, adoptin a clickbait strategies is definetly something you'd have to think about. \n",
    "\n"
   ]
  }
 ],
 "metadata": {
  "kernelspec": {
   "display_name": "Python 3",
   "language": "python",
   "name": "python3"
  },
  "language_info": {
   "codemirror_mode": {
    "name": "ipython",
    "version": 3
   },
   "file_extension": ".py",
   "mimetype": "text/x-python",
   "name": "python",
   "nbconvert_exporter": "python",
   "pygments_lexer": "ipython3",
   "version": "3.7.4"
  }
 },
 "nbformat": 4,
 "nbformat_minor": 4
}
